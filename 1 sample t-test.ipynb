{
 "cells": [
  {
   "cell_type": "markdown",
   "id": "b1b842bf",
   "metadata": {},
   "source": [
    "\n",
    "Create a random sample of 30 numbers ranging from 1 - 50"
   ]
  },
  {
   "cell_type": "code",
   "execution_count": 41,
   "id": "a5ed6d45",
   "metadata": {},
   "outputs": [],
   "source": [
    "# import all the dependencies\n",
    "import random\n",
    "import numpy as np\n",
    "import scipy.stats as stats\n",
    "import pandas as pd"
   ]
  },
  {
   "cell_type": "code",
   "execution_count": 42,
   "id": "6c247cb3",
   "metadata": {},
   "outputs": [
    {
     "data": {
      "text/plain": [
       "array([25, 49, 27,  3, 17, 33, 32, 26, 51, 20, 31, 23, 38, 14, 33,  9, 19,\n",
       "        9, 49,  7, 40, 17, 35, 46, 39, 10, 20,  7, 47,  5])"
      ]
     },
     "execution_count": 42,
     "metadata": {},
     "output_type": "execute_result"
    }
   ],
   "source": [
    "random.seed(0)\n",
    "population = np.array([random.randint(1, 51) for i in range(1, 31)])\n",
    "population\n"
   ]
  },
  {
   "cell_type": "markdown",
   "id": "dd8d156d",
   "metadata": {},
   "source": [
    "generate a sample of 15 numbers as sample"
   ]
  },
  {
   "cell_type": "code",
   "execution_count": 43,
   "id": "1aa7aea9",
   "metadata": {},
   "outputs": [
    {
     "data": {
      "text/plain": [
       "array([ 9, 47, 49,  9,  9,  3, 10, 20,  5, 46, 19,  7, 14, 31, 32])"
      ]
     },
     "execution_count": 43,
     "metadata": {},
     "output_type": "execute_result"
    }
   ],
   "source": [
    "sample_size = 15\n",
    "sample_age = np.random.choice(population, sample_size)\n",
    "sample_age"
   ]
  },
  {
   "cell_type": "code",
   "execution_count": 44,
   "id": "55217e8a",
   "metadata": {},
   "outputs": [
    {
     "data": {
      "text/plain": [
       "15"
      ]
     },
     "execution_count": 44,
     "metadata": {},
     "output_type": "execute_result"
    }
   ],
   "source": [
    "# confirm the length of the new array to be the size 15\n",
    "len(sample_age)"
   ]
  },
  {
   "cell_type": "code",
   "execution_count": 45,
   "id": "c4c10652",
   "metadata": {},
   "outputs": [],
   "source": [
    "ttest, p_value = stats.ttest_1samp(sample_age, population.mean())"
   ]
  },
  {
   "cell_type": "code",
   "execution_count": 46,
   "id": "67943dfb",
   "metadata": {},
   "outputs": [
    {
     "data": {
      "text/plain": [
       "0.22109917581743904"
      ]
     },
     "execution_count": 46,
     "metadata": {},
     "output_type": "execute_result"
    }
   ],
   "source": [
    "p_value"
   ]
  },
  {
   "cell_type": "code",
   "execution_count": 47,
   "id": "d66239e3",
   "metadata": {},
   "outputs": [],
   "source": [
    "def test_hypothesis(pval, threshold):\n",
    "    if pval < threshold:\n",
    "        print(\"We are rejecting the null hypothesis as the difference between the sample and the populations mean is statistically significant\")\n",
    "    else:\n",
    "        print(\"We fail to reject the null hypothesis meaning the sample represents the population\")"
   ]
  },
  {
   "cell_type": "code",
   "execution_count": 48,
   "id": "f246eeac",
   "metadata": {},
   "outputs": [
    {
     "name": "stdout",
     "output_type": "stream",
     "text": [
      "We fail to reject the null hypothesis meaning the sample represents the population\n"
     ]
    }
   ],
   "source": [
    "test_hypothesis(p_value, 0.05)"
   ]
  }
 ],
 "metadata": {
  "kernelspec": {
   "display_name": "Python 3 (ipykernel)",
   "language": "python",
   "name": "python3"
  },
  "language_info": {
   "codemirror_mode": {
    "name": "ipython",
    "version": 3
   },
   "file_extension": ".py",
   "mimetype": "text/x-python",
   "name": "python",
   "nbconvert_exporter": "python",
   "pygments_lexer": "ipython3",
   "version": "3.9.13"
  }
 },
 "nbformat": 4,
 "nbformat_minor": 5
}
